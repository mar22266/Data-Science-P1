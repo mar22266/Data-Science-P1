{
 "cells": [
  {
   "cell_type": "markdown",
   "id": "cdfd72c9",
   "metadata": {},
   "source": [
    "# Andre Marroquin 22266\n",
    "# Sergio orellana 221122\n",
    "# Carlos Valladares\n",
    "# Rodrigo Mansilla"
   ]
  },
  {
   "cell_type": "markdown",
   "id": "07b4a66d",
   "metadata": {},
   "source": [
    "#  Preparación del entorno y carga de datos"
   ]
  },
  {
   "cell_type": "code",
   "execution_count": 18,
   "id": "e02c16f0",
   "metadata": {},
   "outputs": [
    {
     "name": "stdout",
     "output_type": "stream",
     "text": [
      "Dimensiones: 6590 filas, 18 columnas\n"
     ]
    },
    {
     "data": {
      "text/html": [
       "<div>\n",
       "<style scoped>\n",
       "    .dataframe tbody tr th:only-of-type {\n",
       "        vertical-align: middle;\n",
       "    }\n",
       "\n",
       "    .dataframe tbody tr th {\n",
       "        vertical-align: top;\n",
       "    }\n",
       "\n",
       "    .dataframe thead th {\n",
       "        text-align: right;\n",
       "    }\n",
       "</style>\n",
       "<table border=\"1\" class=\"dataframe\">\n",
       "  <thead>\n",
       "    <tr style=\"text-align: right;\">\n",
       "      <th></th>\n",
       "      <th>CODIGO</th>\n",
       "      <th>Unnamed: 1</th>\n",
       "      <th>DISTRITO</th>\n",
       "      <th>DEPARTAMENTO</th>\n",
       "      <th>MUNICIPIO</th>\n",
       "      <th>ESTABLECIMIENTO</th>\n",
       "      <th>DIRECCION</th>\n",
       "      <th>TELEFONO</th>\n",
       "      <th>SUPERVISOR</th>\n",
       "      <th>DIRECTOR</th>\n",
       "      <th>NIVEL</th>\n",
       "      <th>SECTOR</th>\n",
       "      <th>AREA</th>\n",
       "      <th>STATUS</th>\n",
       "      <th>MODALIDAD</th>\n",
       "      <th>JORNADA</th>\n",
       "      <th>PLAN</th>\n",
       "      <th>DEPARTAMENTAL</th>\n",
       "    </tr>\n",
       "  </thead>\n",
       "  <tbody>\n",
       "    <tr>\n",
       "      <th>0</th>\n",
       "      <td>16-01-0138-46</td>\n",
       "      <td>NaN</td>\n",
       "      <td>16-031</td>\n",
       "      <td>ALTA VERAPAZ</td>\n",
       "      <td>COBAN</td>\n",
       "      <td>COLEGIO COBAN</td>\n",
       "      <td>KM.2 SALIDA A SAN JUAN CHAMELCO ZONA 8</td>\n",
       "      <td>77945104</td>\n",
       "      <td>PATRICIO NAJARRO ASENCIO</td>\n",
       "      <td>GUSTAVO ADOLFO SIERRA POP</td>\n",
       "      <td>DIVERSIFICADO</td>\n",
       "      <td>PRIVADO</td>\n",
       "      <td>URBANA</td>\n",
       "      <td>ABIERTA</td>\n",
       "      <td>MONOLINGUE</td>\n",
       "      <td>MATUTINA</td>\n",
       "      <td>DIARIO(REGULAR)</td>\n",
       "      <td>ALTA VERAPAZ</td>\n",
       "    </tr>\n",
       "    <tr>\n",
       "      <th>1</th>\n",
       "      <td>16-01-0139-46</td>\n",
       "      <td>NaN</td>\n",
       "      <td>16-031</td>\n",
       "      <td>ALTA VERAPAZ</td>\n",
       "      <td>COBAN</td>\n",
       "      <td>COLEGIO PARTICULAR MIXTO VERAPAZ</td>\n",
       "      <td>KM 209.5 ENTRADA A LA CIUDAD</td>\n",
       "      <td>77367402</td>\n",
       "      <td>PATRICIO NAJARRO ASENCIO</td>\n",
       "      <td>GILMA DOLORES GUAY PAZ DE LEAL</td>\n",
       "      <td>DIVERSIFICADO</td>\n",
       "      <td>PRIVADO</td>\n",
       "      <td>URBANA</td>\n",
       "      <td>ABIERTA</td>\n",
       "      <td>MONOLINGUE</td>\n",
       "      <td>MATUTINA</td>\n",
       "      <td>DIARIO(REGULAR)</td>\n",
       "      <td>ALTA VERAPAZ</td>\n",
       "    </tr>\n",
       "    <tr>\n",
       "      <th>2</th>\n",
       "      <td>16-01-0140-46</td>\n",
       "      <td>NaN</td>\n",
       "      <td>16-031</td>\n",
       "      <td>ALTA VERAPAZ</td>\n",
       "      <td>COBAN</td>\n",
       "      <td>COLEGIO \"LA INMACULADA\"</td>\n",
       "      <td>7A. AVENIDA 11-109 ZONA 6</td>\n",
       "      <td>78232301</td>\n",
       "      <td>PATRICIO NAJARRO ASENCIO</td>\n",
       "      <td>VIRGINIA SOLANO SERRANO</td>\n",
       "      <td>DIVERSIFICADO</td>\n",
       "      <td>PRIVADO</td>\n",
       "      <td>URBANA</td>\n",
       "      <td>ABIERTA</td>\n",
       "      <td>MONOLINGUE</td>\n",
       "      <td>MATUTINA</td>\n",
       "      <td>DIARIO(REGULAR)</td>\n",
       "      <td>ALTA VERAPAZ</td>\n",
       "    </tr>\n",
       "    <tr>\n",
       "      <th>3</th>\n",
       "      <td>16-01-0141-46</td>\n",
       "      <td>NaN</td>\n",
       "      <td>16-005</td>\n",
       "      <td>ALTA VERAPAZ</td>\n",
       "      <td>COBAN</td>\n",
       "      <td>ESCUELA NACIONAL DE CIENCIAS COMERCIALES</td>\n",
       "      <td>2A CALLE 11-10 ZONA 2</td>\n",
       "      <td>79514215</td>\n",
       "      <td>NORA LILIANA FIGUEROA HERNÁNDEZ</td>\n",
       "      <td>HÉCTOR ROLANDO CHUN POOU</td>\n",
       "      <td>DIVERSIFICADO</td>\n",
       "      <td>OFICIAL</td>\n",
       "      <td>URBANA</td>\n",
       "      <td>ABIERTA</td>\n",
       "      <td>MONOLINGUE</td>\n",
       "      <td>MATUTINA</td>\n",
       "      <td>DIARIO(REGULAR)</td>\n",
       "      <td>ALTA VERAPAZ</td>\n",
       "    </tr>\n",
       "    <tr>\n",
       "      <th>4</th>\n",
       "      <td>16-01-0142-46</td>\n",
       "      <td>NaN</td>\n",
       "      <td>16-005</td>\n",
       "      <td>ALTA VERAPAZ</td>\n",
       "      <td>COBAN</td>\n",
       "      <td>INSTITUTO NORMAL MIXTO DEL NORTE 'EMILIO ROSAL...</td>\n",
       "      <td>3A AVE 6-23 ZONA 11</td>\n",
       "      <td>79521468</td>\n",
       "      <td>NORA LILIANA FIGUEROA HERNÁNDEZ</td>\n",
       "      <td>VICTOR HUGO DOMÍNGUEZ REYES</td>\n",
       "      <td>DIVERSIFICADO</td>\n",
       "      <td>OFICIAL</td>\n",
       "      <td>URBANA</td>\n",
       "      <td>ABIERTA</td>\n",
       "      <td>BILINGUE</td>\n",
       "      <td>VESPERTINA</td>\n",
       "      <td>DIARIO(REGULAR)</td>\n",
       "      <td>ALTA VERAPAZ</td>\n",
       "    </tr>\n",
       "  </tbody>\n",
       "</table>\n",
       "</div>"
      ],
      "text/plain": [
       "          CODIGO  Unnamed: 1 DISTRITO  DEPARTAMENTO MUNICIPIO  \\\n",
       "0  16-01-0138-46         NaN   16-031  ALTA VERAPAZ     COBAN   \n",
       "1  16-01-0139-46         NaN   16-031  ALTA VERAPAZ     COBAN   \n",
       "2  16-01-0140-46         NaN   16-031  ALTA VERAPAZ     COBAN   \n",
       "3  16-01-0141-46         NaN   16-005  ALTA VERAPAZ     COBAN   \n",
       "4  16-01-0142-46         NaN   16-005  ALTA VERAPAZ     COBAN   \n",
       "\n",
       "                                     ESTABLECIMIENTO  \\\n",
       "0                                      COLEGIO COBAN   \n",
       "1                   COLEGIO PARTICULAR MIXTO VERAPAZ   \n",
       "2                            COLEGIO \"LA INMACULADA\"   \n",
       "3           ESCUELA NACIONAL DE CIENCIAS COMERCIALES   \n",
       "4  INSTITUTO NORMAL MIXTO DEL NORTE 'EMILIO ROSAL...   \n",
       "\n",
       "                                DIRECCION  TELEFONO  \\\n",
       "0  KM.2 SALIDA A SAN JUAN CHAMELCO ZONA 8  77945104   \n",
       "1            KM 209.5 ENTRADA A LA CIUDAD  77367402   \n",
       "2               7A. AVENIDA 11-109 ZONA 6  78232301   \n",
       "3                   2A CALLE 11-10 ZONA 2  79514215   \n",
       "4                     3A AVE 6-23 ZONA 11  79521468   \n",
       "\n",
       "                        SUPERVISOR                        DIRECTOR  \\\n",
       "0         PATRICIO NAJARRO ASENCIO       GUSTAVO ADOLFO SIERRA POP   \n",
       "1         PATRICIO NAJARRO ASENCIO  GILMA DOLORES GUAY PAZ DE LEAL   \n",
       "2         PATRICIO NAJARRO ASENCIO         VIRGINIA SOLANO SERRANO   \n",
       "3  NORA LILIANA FIGUEROA HERNÁNDEZ        HÉCTOR ROLANDO CHUN POOU   \n",
       "4  NORA LILIANA FIGUEROA HERNÁNDEZ     VICTOR HUGO DOMÍNGUEZ REYES   \n",
       "\n",
       "           NIVEL   SECTOR    AREA   STATUS   MODALIDAD     JORNADA  \\\n",
       "0  DIVERSIFICADO  PRIVADO  URBANA  ABIERTA  MONOLINGUE    MATUTINA   \n",
       "1  DIVERSIFICADO  PRIVADO  URBANA  ABIERTA  MONOLINGUE    MATUTINA   \n",
       "2  DIVERSIFICADO  PRIVADO  URBANA  ABIERTA  MONOLINGUE    MATUTINA   \n",
       "3  DIVERSIFICADO  OFICIAL  URBANA  ABIERTA  MONOLINGUE    MATUTINA   \n",
       "4  DIVERSIFICADO  OFICIAL  URBANA  ABIERTA    BILINGUE  VESPERTINA   \n",
       "\n",
       "              PLAN DEPARTAMENTAL  \n",
       "0  DIARIO(REGULAR)  ALTA VERAPAZ  \n",
       "1  DIARIO(REGULAR)  ALTA VERAPAZ  \n",
       "2  DIARIO(REGULAR)  ALTA VERAPAZ  \n",
       "3  DIARIO(REGULAR)  ALTA VERAPAZ  \n",
       "4  DIARIO(REGULAR)  ALTA VERAPAZ  "
      ]
     },
     "execution_count": 18,
     "metadata": {},
     "output_type": "execute_result"
    }
   ],
   "source": [
    "import pandas as pd\n",
    "import numpy as np\n",
    "import unicodedata\n",
    "\n",
    "# Cargar el archivo Excel\n",
    "df = pd.read_excel('Establecimientos.xlsx')\n",
    "\n",
    "# Vista rápida\n",
    "print(f\"Dimensiones: {df.shape[0]} filas, {df.shape[1]} columnas\")\n",
    "df.head(5)"
   ]
  },
  {
   "cell_type": "markdown",
   "id": "bc05d667",
   "metadata": {},
   "source": [
    "# Descripción inicial del conjunto de datos\n",
    "\n",
    "Filas iniciales: 6 590\n",
    "\n",
    "Variables (columnas): 18\n",
    "\n",
    "Nombres de columnas: ['CODIGO', 'Unnamed: 1', 'DISTRITO', 'DEPARTAMENTO', 'MUNICIPIO',\n",
    " 'ESTABLECIMIENTO', 'DIRECCION', 'TELEFONO', 'SUPERVISOR', 'DIRECTOR',\n",
    " 'NIVEL', 'SECTOR', 'AREA', 'STATUS', 'MODALIDAD', 'JORNADA', 'PLAN',\n",
    " 'DEPARTAMENTAL']\n"
   ]
  },
  {
   "cell_type": "code",
   "execution_count": 19,
   "id": "d5ebaf69",
   "metadata": {},
   "outputs": [
    {
     "name": "stdout",
     "output_type": "stream",
     "text": [
      "Valores faltantes por columna:\n",
      " Unnamed: 1         6590\n",
      "TELEFONO             45\n",
      "DIRECTOR             25\n",
      "DIRECCION             2\n",
      "SECTOR                0\n",
      "PLAN                  0\n",
      "JORNADA               0\n",
      "MODALIDAD             0\n",
      "STATUS                0\n",
      "AREA                  0\n",
      "CODIGO                0\n",
      "NIVEL                 0\n",
      "SUPERVISOR            0\n",
      "ESTABLECIMIENTO       0\n",
      "MUNICIPIO             0\n",
      "DEPARTAMENTO          0\n",
      "DISTRITO              0\n",
      "DEPARTAMENTAL         0\n",
      "dtype: int64 \n",
      "\n"
     ]
    }
   ],
   "source": [
    "# Conteo de valores faltantes por columna\n",
    "missing = df.isna().sum().sort_values(ascending=False)\n",
    "print(\"Valores faltantes por columna:\\n\", missing, \"\\n\")\n",
    "\n"
   ]
  },
  {
   "cell_type": "code",
   "execution_count": 20,
   "id": "db1f8af0",
   "metadata": {},
   "outputs": [
    {
     "name": "stdout",
     "output_type": "stream",
     "text": [
      "Unnamed: 1 faltantes: 6590\n",
      "DIRECCION   faltantes: 2\n",
      "TELEFONO    faltantes: 45\n",
      "DIRECTOR    faltantes: 25\n",
      "\n"
     ]
    }
   ],
   "source": [
    "# Verificación puntual\n",
    "print(f\"Unnamed: 1 faltantes: {missing['Unnamed: 1']}\")\n",
    "print(f\"DIRECCION   faltantes: {missing['DIRECCION']}\")\n",
    "print(f\"TELEFONO    faltantes: {missing['TELEFONO']}\")\n",
    "print(f\"DIRECTOR    faltantes: {missing['DIRECTOR']}\\n\")"
   ]
  },
  {
   "cell_type": "code",
   "execution_count": 21,
   "id": "7bf0daec",
   "metadata": {},
   "outputs": [
    {
     "name": "stdout",
     "output_type": "stream",
     "text": [
      "Columnas constantes:\n",
      "Columnas completamente vacías: []\n",
      "Columnas con un único valor: ['Unnamed: 1', 'NIVEL', 'STATUS'] \n",
      "\n"
     ]
    }
   ],
   "source": [
    "# Columnas constantes \n",
    "# Vacías todas las filas NaN\n",
    "# Con un único valor\n",
    "n_uniques = df.nunique(dropna=False)\n",
    "const_empty = n_uniques[n_uniques == 0].index.tolist()\n",
    "const_one   = n_uniques[n_uniques == 1].index.tolist()\n",
    "\n",
    "print(\"Columnas constantes:\")\n",
    "print(\"Columnas completamente vacías:\", const_empty)\n",
    "print(\"Columnas con un único valor:\", const_one, \"\\n\")"
   ]
  },
  {
   "cell_type": "code",
   "execution_count": 22,
   "id": "334ed4e6",
   "metadata": {},
   "outputs": [
    {
     "name": "stdout",
     "output_type": "stream",
     "text": [
      "Variables con más necesidad de limpieza:\n",
      "Top 5 columnas con más faltantes: ['Unnamed: 1', 'TELEFONO', 'DIRECTOR', 'DIRECCION', 'SECTOR']\n",
      "Top 5 columnas de texto con más categorías únicas: ['CODIGO', 'DIRECCION', 'TELEFONO', 'DIRECTOR', 'ESTABLECIMIENTO']\n"
     ]
    }
   ],
   "source": [
    "# Variables con más necesidad de limpieza\n",
    "top_missing = missing.head(5).index.tolist()\n",
    "text_cols = df.select_dtypes(include=['object']).columns\n",
    "cardinalities = df[text_cols].nunique().sort_values(ascending=False)\n",
    "top_card = cardinalities.head(5).index.tolist()\n",
    "\n",
    "print(\"Variables con más necesidad de limpieza:\")\n",
    "print(\"Top 5 columnas con más faltantes:\", top_missing)\n",
    "print(\"Top 5 columnas de texto con más categorías únicas:\", top_card)\n"
   ]
  },
  {
   "cell_type": "markdown",
   "id": "cf6a3108",
   "metadata": {},
   "source": [
    "- Unnamed: 1 Columna vacía: debe eliminarse.\n",
    "- ESTABLECIMIENTO Texto libre con mayúsculas/minúsculas inconsistentes, duplicados, errores ortográficos.\n",
    "- DIRECCION\tEspacios en blanco, caracteres especiales, faltantes, inconsistencias en formato.\n",
    "- TELEFONO\tFormatos variados guiones, paréntesis, espacios, valores faltantes, caracteres no numéricos.\n",
    "- SUPERVISOR Nombres con mayúsculas/minúsculas mixtas, posibles nulos ocultos.\n",
    "- DIRECTOR\tMismos problemas que SUPERVISOR, además de 25 faltantes.\n",
    "- DISTRITO/MUNICIPIO Nombres con variantes ortográficas, acentos, mayúsculas."
   ]
  },
  {
   "cell_type": "markdown",
   "id": "1925d8ba",
   "metadata": {},
   "source": [
    "# Limpieza de datos\n",
    "## Estrategia de limpieza \n",
    "### obtener un DataFrame consistente eliminando columnas inútiles, homogeneizar texto y tratar valores faltantes de forma sencilla\n"
   ]
  },
  {
   "cell_type": "code",
   "execution_count": 23,
   "id": "2a339866",
   "metadata": {},
   "outputs": [],
   "source": [
    "# Eliminar columnas inutiles\n",
    "cols_drop = ['Unnamed: 1', 'NIVEL', 'STATUS']\n",
    "df1 = df.drop(columns=cols_drop)\n",
    "\n"
   ]
  },
  {
   "cell_type": "code",
   "execution_count": 24,
   "id": "1e015410",
   "metadata": {},
   "outputs": [],
   "source": [
    "# Normalizar nombres de columnas elimina eapcios en blanco y convierte a minúsculas\n",
    "df1.columns = df1.columns.str.lower().str.strip()"
   ]
  },
  {
   "cell_type": "code",
   "execution_count": 25,
   "id": "76bc3532",
   "metadata": {},
   "outputs": [],
   "source": [
    "# Direcciones y teléfonos faltantes\n",
    "df1['direccion'] = df1['direccion'].fillna('SIN_DIRECCION')\n",
    "df1['telefono']  = df1['telefono'].fillna('SIN_TELEFONO')\n",
    "df1['director']  = df1['director'].fillna('SIN_DIRECTOR')"
   ]
  },
  {
   "cell_type": "code",
   "execution_count": 26,
   "id": "49dd0e0e",
   "metadata": {},
   "outputs": [],
   "source": [
    "# Eliminar duplicados\n",
    "df1 = df1.drop_duplicates()"
   ]
  },
  {
   "cell_type": "code",
   "execution_count": 27,
   "id": "7a912e59",
   "metadata": {},
   "outputs": [],
   "source": [
    "# Unificar mayúsculas minúsculas y espacios\n",
    "text_cols = ['distrito','departamento','municipio','establecimiento',\n",
    "             'direccion','supervisor','director','sector','area',\n",
    "             'modalidad','jornada','plan','departamental']\n",
    "for c in text_cols:\n",
    "    df1[c] = (df1[c]\n",
    "              .astype(str)\n",
    "              .str.strip()\n",
    "              .str.lower()\n",
    "              .str.replace(r'\\s+', ' ', regex=True))"
   ]
  },
  {
   "cell_type": "code",
   "execution_count": 28,
   "id": "0b625a09",
   "metadata": {},
   "outputs": [],
   "source": [
    "# Limpieza de teléfonos\n",
    "import re\n",
    "\n",
    "def clean_phone(x):\n",
    "    x = str(x)  # Convertimos a string\n",
    "    nums = re.sub(r'\\D', '', x)\n",
    "    return nums if len(nums) >= 8 else 'FORMATO_INV'\n",
    "\n",
    "df1['telefono'] = df1['telefono'].apply(clean_phone)\n"
   ]
  },
  {
   "cell_type": "markdown",
   "id": "7a7d8adf",
   "metadata": {},
   "source": [
    "En la variable telefono se realiza una limpieza que consiste en eliminar todos los caracteres no numéricos (como espacios, guiones, paréntesis o letras), dejando únicamente los dígitos. Si el resultado tiene menos de 8 dígitos, se considera un formato inválido y se reemplaza por 'FORMATO_INV'. Esto estandariza los números de teléfono y facilita su validación"
   ]
  },
  {
   "cell_type": "code",
   "execution_count": 29,
   "id": "6ead26cb",
   "metadata": {},
   "outputs": [
    {
     "data": {
      "text/plain": [
       "68"
      ]
     },
     "execution_count": 29,
     "metadata": {},
     "output_type": "execute_result"
    }
   ],
   "source": [
    "# Conteo de formatos inválidos de teléfono\n",
    "df1['telefono'].value_counts()['FORMATO_INV']\n",
    "\n"
   ]
  },
  {
   "cell_type": "code",
   "execution_count": 30,
   "id": "f5f32cfd",
   "metadata": {},
   "outputs": [
    {
     "data": {
      "text/html": [
       "<div>\n",
       "<style scoped>\n",
       "    .dataframe tbody tr th:only-of-type {\n",
       "        vertical-align: middle;\n",
       "    }\n",
       "\n",
       "    .dataframe tbody tr th {\n",
       "        vertical-align: top;\n",
       "    }\n",
       "\n",
       "    .dataframe thead th {\n",
       "        text-align: right;\n",
       "    }\n",
       "</style>\n",
       "<table border=\"1\" class=\"dataframe\">\n",
       "  <thead>\n",
       "    <tr style=\"text-align: right;\">\n",
       "      <th></th>\n",
       "      <th>codigo</th>\n",
       "      <th>distrito</th>\n",
       "      <th>departamento</th>\n",
       "      <th>municipio</th>\n",
       "      <th>establecimiento</th>\n",
       "      <th>direccion</th>\n",
       "      <th>telefono</th>\n",
       "      <th>supervisor</th>\n",
       "      <th>director</th>\n",
       "      <th>sector</th>\n",
       "      <th>area</th>\n",
       "      <th>modalidad</th>\n",
       "      <th>jornada</th>\n",
       "      <th>plan</th>\n",
       "      <th>departamental</th>\n",
       "    </tr>\n",
       "  </thead>\n",
       "  <tbody>\n",
       "    <tr>\n",
       "      <th>83</th>\n",
       "      <td>16-03-0036-46</td>\n",
       "      <td>16-053</td>\n",
       "      <td>alta verapaz</td>\n",
       "      <td>san cristobal verapaz</td>\n",
       "      <td>instituto nacional de educacion diversificada</td>\n",
       "      <td>barrio chiyuc</td>\n",
       "      <td>FORMATO_INV</td>\n",
       "      <td>leonardo oxom chen</td>\n",
       "      <td>edy rolando jom coy</td>\n",
       "      <td>oficial</td>\n",
       "      <td>rural</td>\n",
       "      <td>monolingue</td>\n",
       "      <td>vespertina</td>\n",
       "      <td>diario(regular)</td>\n",
       "      <td>alta verapaz</td>\n",
       "    </tr>\n",
       "    <tr>\n",
       "      <th>136</th>\n",
       "      <td>16-06-2398-46</td>\n",
       "      <td>16-011</td>\n",
       "      <td>alta verapaz</td>\n",
       "      <td>san miguel tucuru</td>\n",
       "      <td>instituto privado mixto de magisterio bilingue...</td>\n",
       "      <td>canton la playa</td>\n",
       "      <td>FORMATO_INV</td>\n",
       "      <td>ingrid amanda camó tobar de castro</td>\n",
       "      <td>miguel fernando tut lemus</td>\n",
       "      <td>privado</td>\n",
       "      <td>urbana</td>\n",
       "      <td>monolingue</td>\n",
       "      <td>vespertina</td>\n",
       "      <td>diario(regular)</td>\n",
       "      <td>alta verapaz</td>\n",
       "    </tr>\n",
       "    <tr>\n",
       "      <th>151</th>\n",
       "      <td>16-07-0253-46</td>\n",
       "      <td>16-055</td>\n",
       "      <td>alta verapaz</td>\n",
       "      <td>panzos</td>\n",
       "      <td>colegio privado mixto juan amos comenio</td>\n",
       "      <td>colonia santa isabel</td>\n",
       "      <td>FORMATO_INV</td>\n",
       "      <td>maria elena palma molina</td>\n",
       "      <td>marcelino caz mucú</td>\n",
       "      <td>privado</td>\n",
       "      <td>rural</td>\n",
       "      <td>monolingue</td>\n",
       "      <td>doble</td>\n",
       "      <td>fin de semana</td>\n",
       "      <td>alta verapaz</td>\n",
       "    </tr>\n",
       "    <tr>\n",
       "      <th>170</th>\n",
       "      <td>16-09-0007-46</td>\n",
       "      <td>16-033</td>\n",
       "      <td>alta verapaz</td>\n",
       "      <td>san pedro carcha</td>\n",
       "      <td>centro educativo nueva vida</td>\n",
       "      <td>8a. calle 4-47 zona 4</td>\n",
       "      <td>FORMATO_INV</td>\n",
       "      <td>oscar rené ventura zac</td>\n",
       "      <td>juan rax</td>\n",
       "      <td>privado</td>\n",
       "      <td>rural</td>\n",
       "      <td>monolingue</td>\n",
       "      <td>vespertina</td>\n",
       "      <td>diario(regular)</td>\n",
       "      <td>alta verapaz</td>\n",
       "    </tr>\n",
       "    <tr>\n",
       "      <th>207</th>\n",
       "      <td>16-09-9259-46</td>\n",
       "      <td>16-033</td>\n",
       "      <td>alta verapaz</td>\n",
       "      <td>san pedro carcha</td>\n",
       "      <td>colegio \"sthella de hernandez\"</td>\n",
       "      <td>diagonal 2 10-73 zona 2 barrio san pablo</td>\n",
       "      <td>FORMATO_INV</td>\n",
       "      <td>oscar rené ventura zac</td>\n",
       "      <td>orley edwin meléndez rosales</td>\n",
       "      <td>privado</td>\n",
       "      <td>urbana</td>\n",
       "      <td>monolingue</td>\n",
       "      <td>doble</td>\n",
       "      <td>fin de semana</td>\n",
       "      <td>alta verapaz</td>\n",
       "    </tr>\n",
       "  </tbody>\n",
       "</table>\n",
       "</div>"
      ],
      "text/plain": [
       "            codigo distrito  departamento              municipio  \\\n",
       "83   16-03-0036-46   16-053  alta verapaz  san cristobal verapaz   \n",
       "136  16-06-2398-46   16-011  alta verapaz      san miguel tucuru   \n",
       "151  16-07-0253-46   16-055  alta verapaz                 panzos   \n",
       "170  16-09-0007-46   16-033  alta verapaz       san pedro carcha   \n",
       "207  16-09-9259-46   16-033  alta verapaz       san pedro carcha   \n",
       "\n",
       "                                       establecimiento  \\\n",
       "83       instituto nacional de educacion diversificada   \n",
       "136  instituto privado mixto de magisterio bilingue...   \n",
       "151            colegio privado mixto juan amos comenio   \n",
       "170                        centro educativo nueva vida   \n",
       "207                     colegio \"sthella de hernandez\"   \n",
       "\n",
       "                                    direccion     telefono  \\\n",
       "83                              barrio chiyuc  FORMATO_INV   \n",
       "136                           canton la playa  FORMATO_INV   \n",
       "151                      colonia santa isabel  FORMATO_INV   \n",
       "170                     8a. calle 4-47 zona 4  FORMATO_INV   \n",
       "207  diagonal 2 10-73 zona 2 barrio san pablo  FORMATO_INV   \n",
       "\n",
       "                             supervisor                      director  \\\n",
       "83                   leonardo oxom chen           edy rolando jom coy   \n",
       "136  ingrid amanda camó tobar de castro     miguel fernando tut lemus   \n",
       "151            maria elena palma molina            marcelino caz mucú   \n",
       "170              oscar rené ventura zac                      juan rax   \n",
       "207              oscar rené ventura zac  orley edwin meléndez rosales   \n",
       "\n",
       "      sector    area   modalidad     jornada             plan departamental  \n",
       "83   oficial   rural  monolingue  vespertina  diario(regular)  alta verapaz  \n",
       "136  privado  urbana  monolingue  vespertina  diario(regular)  alta verapaz  \n",
       "151  privado   rural  monolingue       doble    fin de semana  alta verapaz  \n",
       "170  privado   rural  monolingue  vespertina  diario(regular)  alta verapaz  \n",
       "207  privado  urbana  monolingue       doble    fin de semana  alta verapaz  "
      ]
     },
     "execution_count": 30,
     "metadata": {},
     "output_type": "execute_result"
    }
   ],
   "source": [
    "# ver lasfilas con formato inválido\n",
    "df1[df1['telefono'] == 'FORMATO_INV'].head()"
   ]
  },
  {
   "cell_type": "code",
   "execution_count": null,
   "id": "8a7ea471",
   "metadata": {},
   "outputs": [],
   "source": [
    "# Eliminar tildes, comillas y caracteres especiales de establecimiento\n",
    "df1['establecimiento'] = df1['establecimiento'].apply(lambda x: \n",
    "    re.sub(r'[^\\w\\s]', '',  \n",
    "        unicodedata.normalize('NFD', x)  \n",
    "        .encode('ascii', 'ignore')       \n",
    "        .decode('utf-8')                 \n",
    "    )\n",
    ")\n"
   ]
  },
  {
   "cell_type": "markdown",
   "id": "c5dd151e",
   "metadata": {},
   "source": [
    "A la variable establecimiento se le aplicó una limpieza textual que incluyó: la conversión a minúsculas, eliminación de espacios duplicados y al inicio/final, eliminación de tildes y acentos mediante normalización Unicode, y la eliminación de signos de puntuación y caracteres especiales como comillas. Esto garantiza que los nombres de los establecimientos queden en un formato uniforme y comparable, reduciendo errores por variaciones tipográficas."
   ]
  }
 ],
 "metadata": {
  "kernelspec": {
   "display_name": "Python 3",
   "language": "python",
   "name": "python3"
  },
  "language_info": {
   "codemirror_mode": {
    "name": "ipython",
    "version": 3
   },
   "file_extension": ".py",
   "mimetype": "text/x-python",
   "name": "python",
   "nbconvert_exporter": "python",
   "pygments_lexer": "ipython3",
   "version": "3.12.10"
  }
 },
 "nbformat": 4,
 "nbformat_minor": 5
}
